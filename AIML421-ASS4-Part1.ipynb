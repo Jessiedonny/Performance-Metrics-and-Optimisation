{
 "cells": [
  {
   "cell_type": "markdown",
   "id": "fd1f6227",
   "metadata": {},
   "source": [
    "# AIML421 Assignment4 - Part 1: Performance Metrics in Regression\n",
    "Dataset: diamonds.csv"
   ]
  },
  {
   "cell_type": "code",
   "execution_count": 11,
   "id": "208e0b3e",
   "metadata": {},
   "outputs": [
    {
     "data": {
      "text/html": [
       "<div>\n",
       "<style scoped>\n",
       "    .dataframe tbody tr th:only-of-type {\n",
       "        vertical-align: middle;\n",
       "    }\n",
       "\n",
       "    .dataframe tbody tr th {\n",
       "        vertical-align: top;\n",
       "    }\n",
       "\n",
       "    .dataframe thead th {\n",
       "        text-align: right;\n",
       "    }\n",
       "</style>\n",
       "<table border=\"1\" class=\"dataframe\">\n",
       "  <thead>\n",
       "    <tr style=\"text-align: right;\">\n",
       "      <th></th>\n",
       "      <th>Unnamed: 0</th>\n",
       "      <th>carat</th>\n",
       "      <th>cut</th>\n",
       "      <th>color</th>\n",
       "      <th>clarity</th>\n",
       "      <th>depth</th>\n",
       "      <th>table</th>\n",
       "      <th>x</th>\n",
       "      <th>y</th>\n",
       "      <th>z</th>\n",
       "      <th>price</th>\n",
       "    </tr>\n",
       "  </thead>\n",
       "  <tbody>\n",
       "    <tr>\n",
       "      <th>0</th>\n",
       "      <td>1</td>\n",
       "      <td>0.23</td>\n",
       "      <td>Ideal</td>\n",
       "      <td>E</td>\n",
       "      <td>SI2</td>\n",
       "      <td>61.5</td>\n",
       "      <td>55.0</td>\n",
       "      <td>3.95</td>\n",
       "      <td>3.98</td>\n",
       "      <td>2.43</td>\n",
       "      <td>326</td>\n",
       "    </tr>\n",
       "    <tr>\n",
       "      <th>1</th>\n",
       "      <td>2</td>\n",
       "      <td>0.21</td>\n",
       "      <td>Premium</td>\n",
       "      <td>E</td>\n",
       "      <td>SI1</td>\n",
       "      <td>59.8</td>\n",
       "      <td>61.0</td>\n",
       "      <td>3.89</td>\n",
       "      <td>3.84</td>\n",
       "      <td>2.31</td>\n",
       "      <td>326</td>\n",
       "    </tr>\n",
       "    <tr>\n",
       "      <th>2</th>\n",
       "      <td>3</td>\n",
       "      <td>0.23</td>\n",
       "      <td>Good</td>\n",
       "      <td>E</td>\n",
       "      <td>VS1</td>\n",
       "      <td>56.9</td>\n",
       "      <td>65.0</td>\n",
       "      <td>4.05</td>\n",
       "      <td>4.07</td>\n",
       "      <td>2.31</td>\n",
       "      <td>327</td>\n",
       "    </tr>\n",
       "    <tr>\n",
       "      <th>3</th>\n",
       "      <td>4</td>\n",
       "      <td>0.29</td>\n",
       "      <td>Premium</td>\n",
       "      <td>I</td>\n",
       "      <td>VS2</td>\n",
       "      <td>62.4</td>\n",
       "      <td>58.0</td>\n",
       "      <td>4.20</td>\n",
       "      <td>4.23</td>\n",
       "      <td>2.63</td>\n",
       "      <td>334</td>\n",
       "    </tr>\n",
       "    <tr>\n",
       "      <th>4</th>\n",
       "      <td>5</td>\n",
       "      <td>0.31</td>\n",
       "      <td>Good</td>\n",
       "      <td>J</td>\n",
       "      <td>SI2</td>\n",
       "      <td>63.3</td>\n",
       "      <td>58.0</td>\n",
       "      <td>4.34</td>\n",
       "      <td>4.35</td>\n",
       "      <td>2.75</td>\n",
       "      <td>335</td>\n",
       "    </tr>\n",
       "  </tbody>\n",
       "</table>\n",
       "</div>"
      ],
      "text/plain": [
       "   Unnamed: 0  carat      cut color clarity  depth  table     x     y     z  \\\n",
       "0           1   0.23    Ideal     E     SI2   61.5   55.0  3.95  3.98  2.43   \n",
       "1           2   0.21  Premium     E     SI1   59.8   61.0  3.89  3.84  2.31   \n",
       "2           3   0.23     Good     E     VS1   56.9   65.0  4.05  4.07  2.31   \n",
       "3           4   0.29  Premium     I     VS2   62.4   58.0  4.20  4.23  2.63   \n",
       "4           5   0.31     Good     J     SI2   63.3   58.0  4.34  4.35  2.75   \n",
       "\n",
       "   price  \n",
       "0    326  \n",
       "1    326  \n",
       "2    327  \n",
       "3    334  \n",
       "4    335  "
      ]
     },
     "execution_count": 11,
     "metadata": {},
     "output_type": "execute_result"
    }
   ],
   "source": [
    "import pandas as pd\n",
    "import numpy as np\n",
    "diamonds_data =pd.read_csv(\"/Users/Jessie/Documents/JupyterNotebook/ass4data/part1/diamonds.csv\",keep_default_na=False,na_values=['?'])\n",
    "diamonds_data.head()"
   ]
  },
  {
   "cell_type": "markdown",
   "id": "ab7320d5",
   "metadata": {},
   "source": [
    "Perform Initial Data Analysis:"
   ]
  },
  {
   "cell_type": "code",
   "execution_count": 3,
   "id": "8b4e0e59",
   "metadata": {},
   "outputs": [
    {
     "data": {
      "text/plain": [
       "(53940, 11)"
      ]
     },
     "execution_count": 3,
     "metadata": {},
     "output_type": "execute_result"
    }
   ],
   "source": [
    "diamonds_data.shape"
   ]
  },
  {
   "cell_type": "code",
   "execution_count": 4,
   "id": "bc174d0a",
   "metadata": {},
   "outputs": [
    {
     "data": {
      "text/plain": [
       "Unnamed: 0    0\n",
       "carat         0\n",
       "cut           0\n",
       "color         0\n",
       "clarity       0\n",
       "depth         0\n",
       "table         0\n",
       "x             0\n",
       "y             0\n",
       "z             0\n",
       "price         0\n",
       "dtype: int64"
      ]
     },
     "execution_count": 4,
     "metadata": {},
     "output_type": "execute_result"
    }
   ],
   "source": [
    "#check missing values\n",
    "diamonds_data.isnull().sum()"
   ]
  },
  {
   "cell_type": "code",
   "execution_count": 5,
   "id": "7f95b9eb",
   "metadata": {},
   "outputs": [
    {
     "data": {
      "text/plain": [
       "Unnamed: 0      int64\n",
       "carat         float64\n",
       "cut            object\n",
       "color          object\n",
       "clarity        object\n",
       "depth         float64\n",
       "table         float64\n",
       "x             float64\n",
       "y             float64\n",
       "z             float64\n",
       "price           int64\n",
       "dtype: object"
      ]
     },
     "execution_count": 5,
     "metadata": {},
     "output_type": "execute_result"
    }
   ],
   "source": [
    "diamonds_data.dtypes"
   ]
  },
  {
   "cell_type": "code",
   "execution_count": 6,
   "id": "83dbc4cc",
   "metadata": {},
   "outputs": [
    {
     "data": {
      "text/plain": [
       "53940"
      ]
     },
     "execution_count": 6,
     "metadata": {},
     "output_type": "execute_result"
    }
   ],
   "source": [
    "len(diamonds_data[\"Unnamed: 0\"].unique())"
   ]
  },
  {
   "cell_type": "code",
   "execution_count": 7,
   "id": "008568ba",
   "metadata": {},
   "outputs": [
    {
     "name": "stdout",
     "output_type": "stream",
     "text": [
      "['Ideal' 'Premium' 'Good' 'Very Good' 'Fair'] ['E' 'I' 'J' 'H' 'F' 'G' 'D'] ['SI2' 'SI1' 'VS1' 'VS2' 'VVS2' 'VVS1' 'I1' 'IF']\n"
     ]
    }
   ],
   "source": [
    "print(diamonds_data[\"cut\"].unique(),\n",
    "diamonds_data[\"color\"].unique(),\n",
    "diamonds_data[\"clarity\"].unique())"
   ]
  },
  {
   "cell_type": "markdown",
   "id": "73b4b095",
   "metadata": {},
   "source": [
    "cut and color are definetely ordinal. how about clarity? Did some research on it, and found:\n",
    "\"The GIA Clarity Scale contains 11 grades, with most diamonds falling into the VS (very slightly included) or SI (slightly included) categories.\" So it's ordinal as well."
   ]
  },
  {
   "cell_type": "markdown",
   "id": "0555e5de",
   "metadata": {},
   "source": [
    "Next step - Initial Preproces the data - drop irelavent columns:"
   ]
  },
  {
   "cell_type": "code",
   "execution_count": 8,
   "id": "2d0d95e4",
   "metadata": {},
   "outputs": [],
   "source": [
    "data=diamonds_data.drop([\"Unnamed: 0\"], axis=1)"
   ]
  },
  {
   "cell_type": "markdown",
   "id": "6dddaa1a",
   "metadata": {},
   "source": [
    "To prevent data leakage, we split the data into training and test set first"
   ]
  },
  {
   "cell_type": "code",
   "execution_count": 9,
   "id": "c775ef84",
   "metadata": {},
   "outputs": [],
   "source": [
    "from sklearn.model_selection import train_test_split\n",
    "y=data['price']\n",
    "X=data.drop(['price'], axis=1)\n",
    "X_train, X_test, y_train, y_test = train_test_split(X, y, test_size=0.3, random_state=309)"
   ]
  },
  {
   "cell_type": "code",
   "execution_count": 55,
   "id": "fabb4239",
   "metadata": {},
   "outputs": [],
   "source": [
    "from sklearn.preprocessing import OrdinalEncoder\n",
    "X_train_encoded=X_train.copy()\n",
    "#encode cut\n",
    "encoder_cut = OrdinalEncoder(handle_unknown = 'use_encoded_value', unknown_value=np.nan)\n",
    "X_train_encoded['cut'] = encoder_cut.fit_transform(X_train_encoded['cut'].values.reshape(-1, 1))\n",
    "#encode color\n",
    "encoder_color = OrdinalEncoder(handle_unknown = 'use_encoded_value', unknown_value=np.nan)\n",
    "X_train_encoded['color'] = encoder_color.fit_transform(X_train_encoded['color'].values.reshape(-1, 1))\n",
    "#encode clarity\n",
    "encoder_clarity = OrdinalEncoder(handle_unknown = 'use_encoded_value', unknown_value=np.nan)\n",
    "X_train_encoded['clarity'] = encoder_clarity.fit_transform(X_train_encoded['clarity'].values.reshape(-1, 1))"
   ]
  },
  {
   "cell_type": "markdown",
   "id": "adfb6dce",
   "metadata": {},
   "source": [
    "Next step - perform Exploratory Data Analysis"
   ]
  },
  {
   "cell_type": "code",
   "execution_count": 13,
   "id": "b22ef048",
   "metadata": {},
   "outputs": [],
   "source": [
    "df=X_train_encoded.copy()\n",
    "df[\"price\"]=y_train"
   ]
  },
  {
   "cell_type": "code",
   "execution_count": 14,
   "id": "5b5ffcc0",
   "metadata": {},
   "outputs": [
    {
     "data": {
      "text/plain": [
       "(37758, 10)"
      ]
     },
     "execution_count": 14,
     "metadata": {},
     "output_type": "execute_result"
    }
   ],
   "source": [
    "df.shape"
   ]
  },
  {
   "cell_type": "code",
   "execution_count": 15,
   "id": "8fa879c1",
   "metadata": {},
   "outputs": [
    {
     "data": {
      "text/html": [
       "<div>\n",
       "<style scoped>\n",
       "    .dataframe tbody tr th:only-of-type {\n",
       "        vertical-align: middle;\n",
       "    }\n",
       "\n",
       "    .dataframe tbody tr th {\n",
       "        vertical-align: top;\n",
       "    }\n",
       "\n",
       "    .dataframe thead th {\n",
       "        text-align: right;\n",
       "    }\n",
       "</style>\n",
       "<table border=\"1\" class=\"dataframe\">\n",
       "  <thead>\n",
       "    <tr style=\"text-align: right;\">\n",
       "      <th></th>\n",
       "      <th>carat</th>\n",
       "      <th>cut</th>\n",
       "      <th>color</th>\n",
       "      <th>clarity</th>\n",
       "      <th>depth</th>\n",
       "      <th>table</th>\n",
       "      <th>x</th>\n",
       "      <th>y</th>\n",
       "      <th>z</th>\n",
       "      <th>price</th>\n",
       "    </tr>\n",
       "  </thead>\n",
       "  <tbody>\n",
       "    <tr>\n",
       "      <th>36878</th>\n",
       "      <td>0.42</td>\n",
       "      <td>2.0</td>\n",
       "      <td>1.0</td>\n",
       "      <td>5.0</td>\n",
       "      <td>61.7</td>\n",
       "      <td>56.0</td>\n",
       "      <td>4.80</td>\n",
       "      <td>4.82</td>\n",
       "      <td>2.97</td>\n",
       "      <td>958</td>\n",
       "    </tr>\n",
       "    <tr>\n",
       "      <th>18820</th>\n",
       "      <td>1.03</td>\n",
       "      <td>2.0</td>\n",
       "      <td>3.0</td>\n",
       "      <td>6.0</td>\n",
       "      <td>61.7</td>\n",
       "      <td>56.0</td>\n",
       "      <td>6.45</td>\n",
       "      <td>6.56</td>\n",
       "      <td>4.00</td>\n",
       "      <td>7708</td>\n",
       "    </tr>\n",
       "    <tr>\n",
       "      <th>53406</th>\n",
       "      <td>0.82</td>\n",
       "      <td>2.0</td>\n",
       "      <td>1.0</td>\n",
       "      <td>3.0</td>\n",
       "      <td>62.1</td>\n",
       "      <td>55.0</td>\n",
       "      <td>6.04</td>\n",
       "      <td>6.01</td>\n",
       "      <td>3.74</td>\n",
       "      <td>2668</td>\n",
       "    </tr>\n",
       "    <tr>\n",
       "      <th>25954</th>\n",
       "      <td>1.40</td>\n",
       "      <td>2.0</td>\n",
       "      <td>3.0</td>\n",
       "      <td>6.0</td>\n",
       "      <td>60.8</td>\n",
       "      <td>57.0</td>\n",
       "      <td>7.21</td>\n",
       "      <td>7.23</td>\n",
       "      <td>4.39</td>\n",
       "      <td>15134</td>\n",
       "    </tr>\n",
       "    <tr>\n",
       "      <th>13825</th>\n",
       "      <td>1.00</td>\n",
       "      <td>4.0</td>\n",
       "      <td>1.0</td>\n",
       "      <td>5.0</td>\n",
       "      <td>63.5</td>\n",
       "      <td>56.0</td>\n",
       "      <td>6.37</td>\n",
       "      <td>6.32</td>\n",
       "      <td>4.03</td>\n",
       "      <td>5633</td>\n",
       "    </tr>\n",
       "  </tbody>\n",
       "</table>\n",
       "</div>"
      ],
      "text/plain": [
       "       carat  cut  color  clarity  depth  table     x     y     z  price\n",
       "36878   0.42  2.0    1.0      5.0   61.7   56.0  4.80  4.82  2.97    958\n",
       "18820   1.03  2.0    3.0      6.0   61.7   56.0  6.45  6.56  4.00   7708\n",
       "53406   0.82  2.0    1.0      3.0   62.1   55.0  6.04  6.01  3.74   2668\n",
       "25954   1.40  2.0    3.0      6.0   60.8   57.0  7.21  7.23  4.39  15134\n",
       "13825   1.00  4.0    1.0      5.0   63.5   56.0  6.37  6.32  4.03   5633"
      ]
     },
     "execution_count": 15,
     "metadata": {},
     "output_type": "execute_result"
    }
   ],
   "source": [
    "df.head()"
   ]
  },
  {
   "cell_type": "code",
   "execution_count": 16,
   "id": "13dc7010",
   "metadata": {},
   "outputs": [
    {
     "data": {
      "text/plain": [
       "carat      float64\n",
       "cut        float64\n",
       "color      float64\n",
       "clarity    float64\n",
       "depth      float64\n",
       "table      float64\n",
       "x          float64\n",
       "y          float64\n",
       "z          float64\n",
       "price        int64\n",
       "dtype: object"
      ]
     },
     "execution_count": 16,
     "metadata": {},
     "output_type": "execute_result"
    }
   ],
   "source": [
    "df.dtypes"
   ]
  },
  {
   "cell_type": "code",
   "execution_count": 17,
   "id": "9035b78f",
   "metadata": {},
   "outputs": [
    {
     "data": {
      "text/plain": [
       "carat      0\n",
       "cut        0\n",
       "color      0\n",
       "clarity    0\n",
       "depth      0\n",
       "table      0\n",
       "x          0\n",
       "y          0\n",
       "z          0\n",
       "price      0\n",
       "dtype: int64"
      ]
     },
     "execution_count": 17,
     "metadata": {},
     "output_type": "execute_result"
    }
   ],
   "source": [
    "df.isnull().sum()"
   ]
  },
  {
   "cell_type": "code",
   "execution_count": 18,
   "id": "9a7d9657",
   "metadata": {},
   "outputs": [
    {
     "data": {
      "text/html": [
       "<div>\n",
       "<style scoped>\n",
       "    .dataframe tbody tr th:only-of-type {\n",
       "        vertical-align: middle;\n",
       "    }\n",
       "\n",
       "    .dataframe tbody tr th {\n",
       "        vertical-align: top;\n",
       "    }\n",
       "\n",
       "    .dataframe thead th {\n",
       "        text-align: right;\n",
       "    }\n",
       "</style>\n",
       "<table border=\"1\" class=\"dataframe\">\n",
       "  <thead>\n",
       "    <tr style=\"text-align: right;\">\n",
       "      <th></th>\n",
       "      <th>carat</th>\n",
       "      <th>cut</th>\n",
       "      <th>color</th>\n",
       "      <th>clarity</th>\n",
       "      <th>depth</th>\n",
       "      <th>table</th>\n",
       "      <th>x</th>\n",
       "      <th>y</th>\n",
       "      <th>z</th>\n",
       "      <th>price</th>\n",
       "    </tr>\n",
       "  </thead>\n",
       "  <tbody>\n",
       "    <tr>\n",
       "      <th>count</th>\n",
       "      <td>37758.000000</td>\n",
       "      <td>37758.000000</td>\n",
       "      <td>37758.000000</td>\n",
       "      <td>37758.000000</td>\n",
       "      <td>37758.000000</td>\n",
       "      <td>37758.000000</td>\n",
       "      <td>37758.000000</td>\n",
       "      <td>37758.000000</td>\n",
       "      <td>37758.000000</td>\n",
       "      <td>37758.000000</td>\n",
       "    </tr>\n",
       "    <tr>\n",
       "      <th>mean</th>\n",
       "      <td>0.798166</td>\n",
       "      <td>2.556068</td>\n",
       "      <td>2.587955</td>\n",
       "      <td>3.832406</td>\n",
       "      <td>61.741557</td>\n",
       "      <td>57.458660</td>\n",
       "      <td>5.733020</td>\n",
       "      <td>5.737242</td>\n",
       "      <td>3.539638</td>\n",
       "      <td>3930.603130</td>\n",
       "    </tr>\n",
       "    <tr>\n",
       "      <th>std</th>\n",
       "      <td>0.472857</td>\n",
       "      <td>1.026089</td>\n",
       "      <td>1.700652</td>\n",
       "      <td>1.723270</td>\n",
       "      <td>1.426374</td>\n",
       "      <td>2.240281</td>\n",
       "      <td>1.120184</td>\n",
       "      <td>1.152877</td>\n",
       "      <td>0.708507</td>\n",
       "      <td>3973.019456</td>\n",
       "    </tr>\n",
       "    <tr>\n",
       "      <th>min</th>\n",
       "      <td>0.200000</td>\n",
       "      <td>0.000000</td>\n",
       "      <td>0.000000</td>\n",
       "      <td>0.000000</td>\n",
       "      <td>43.000000</td>\n",
       "      <td>43.000000</td>\n",
       "      <td>0.000000</td>\n",
       "      <td>0.000000</td>\n",
       "      <td>0.000000</td>\n",
       "      <td>327.000000</td>\n",
       "    </tr>\n",
       "    <tr>\n",
       "      <th>25%</th>\n",
       "      <td>0.400000</td>\n",
       "      <td>2.000000</td>\n",
       "      <td>1.000000</td>\n",
       "      <td>2.000000</td>\n",
       "      <td>61.000000</td>\n",
       "      <td>56.000000</td>\n",
       "      <td>4.720000</td>\n",
       "      <td>4.720000</td>\n",
       "      <td>2.910000</td>\n",
       "      <td>953.000000</td>\n",
       "    </tr>\n",
       "    <tr>\n",
       "      <th>50%</th>\n",
       "      <td>0.700000</td>\n",
       "      <td>2.000000</td>\n",
       "      <td>3.000000</td>\n",
       "      <td>4.000000</td>\n",
       "      <td>61.800000</td>\n",
       "      <td>57.000000</td>\n",
       "      <td>5.700000</td>\n",
       "      <td>5.710000</td>\n",
       "      <td>3.530000</td>\n",
       "      <td>2409.000000</td>\n",
       "    </tr>\n",
       "    <tr>\n",
       "      <th>75%</th>\n",
       "      <td>1.040000</td>\n",
       "      <td>3.000000</td>\n",
       "      <td>4.000000</td>\n",
       "      <td>5.000000</td>\n",
       "      <td>62.500000</td>\n",
       "      <td>59.000000</td>\n",
       "      <td>6.540000</td>\n",
       "      <td>6.540000</td>\n",
       "      <td>4.040000</td>\n",
       "      <td>5330.000000</td>\n",
       "    </tr>\n",
       "    <tr>\n",
       "      <th>max</th>\n",
       "      <td>5.010000</td>\n",
       "      <td>4.000000</td>\n",
       "      <td>6.000000</td>\n",
       "      <td>7.000000</td>\n",
       "      <td>79.000000</td>\n",
       "      <td>95.000000</td>\n",
       "      <td>10.740000</td>\n",
       "      <td>58.900000</td>\n",
       "      <td>31.800000</td>\n",
       "      <td>18823.000000</td>\n",
       "    </tr>\n",
       "  </tbody>\n",
       "</table>\n",
       "</div>"
      ],
      "text/plain": [
       "              carat           cut         color       clarity         depth  \\\n",
       "count  37758.000000  37758.000000  37758.000000  37758.000000  37758.000000   \n",
       "mean       0.798166      2.556068      2.587955      3.832406     61.741557   \n",
       "std        0.472857      1.026089      1.700652      1.723270      1.426374   \n",
       "min        0.200000      0.000000      0.000000      0.000000     43.000000   \n",
       "25%        0.400000      2.000000      1.000000      2.000000     61.000000   \n",
       "50%        0.700000      2.000000      3.000000      4.000000     61.800000   \n",
       "75%        1.040000      3.000000      4.000000      5.000000     62.500000   \n",
       "max        5.010000      4.000000      6.000000      7.000000     79.000000   \n",
       "\n",
       "              table             x             y             z         price  \n",
       "count  37758.000000  37758.000000  37758.000000  37758.000000  37758.000000  \n",
       "mean      57.458660      5.733020      5.737242      3.539638   3930.603130  \n",
       "std        2.240281      1.120184      1.152877      0.708507   3973.019456  \n",
       "min       43.000000      0.000000      0.000000      0.000000    327.000000  \n",
       "25%       56.000000      4.720000      4.720000      2.910000    953.000000  \n",
       "50%       57.000000      5.700000      5.710000      3.530000   2409.000000  \n",
       "75%       59.000000      6.540000      6.540000      4.040000   5330.000000  \n",
       "max       95.000000     10.740000     58.900000     31.800000  18823.000000  "
      ]
     },
     "execution_count": 18,
     "metadata": {},
     "output_type": "execute_result"
    }
   ],
   "source": [
    "df.describe()"
   ]
  },
  {
   "cell_type": "code",
   "execution_count": 22,
   "id": "c25f99bf",
   "metadata": {},
   "outputs": [
    {
     "data": {
      "image/png": "[encoded data removed]",
      "text/plain": [
       "<Figure size 432x288 with 1 Axes>"
      ]
     },
     "metadata": {
      "needs_background": "light"
     },
     "output_type": "display_data"
    }
   ],
   "source": [
    "boxplot = df.boxplot(column=['carat','x','y','z'])  "
   ]
  },
  {
   "cell_type": "code",
   "execution_count": 23,
   "id": "f36d8cf8",
   "metadata": {},
   "outputs": [
    {
     "data": {
      "text/plain": [
       "<seaborn.axisgrid.PairGrid at 0x7fa3ca617640>"
      ]
     },
     "execution_count": 23,
     "metadata": {},
     "output_type": "execute_result"
    },
    {
     "data": {
      "image/png": "[encoded data removed]",
      "text/plain": [
       "<Figure size 1620x180 with 9 Axes>"
      ]
     },
     "metadata": {
      "needs_background": "light"
     },
     "output_type": "display_data"
    }
   ],
   "source": [
    "import seaborn as sns \n",
    "sns.pairplot(df,x_vars=[\"carat\", \"cut\", \"color\",\"clarity\",\"depth\",\"table\",\"x\",\"y\",\"z\"],\n",
    "    y_vars=[\"price\"])"
   ]
  },
  {
   "cell_type": "code",
   "execution_count": 59,
   "id": "5846b577",
   "metadata": {},
   "outputs": [
    {
     "data": {
      "text/html": [
       "<div>\n",
       "<style scoped>\n",
       "    .dataframe tbody tr th:only-of-type {\n",
       "        vertical-align: middle;\n",
       "    }\n",
       "\n",
       "    .dataframe tbody tr th {\n",
       "        vertical-align: top;\n",
       "    }\n",
       "\n",
       "    .dataframe thead th {\n",
       "        text-align: right;\n",
       "    }\n",
       "</style>\n",
       "<table border=\"1\" class=\"dataframe\">\n",
       "  <thead>\n",
       "    <tr style=\"text-align: right;\">\n",
       "      <th></th>\n",
       "      <th>carat</th>\n",
       "      <th>cut</th>\n",
       "      <th>color</th>\n",
       "      <th>clarity</th>\n",
       "      <th>depth</th>\n",
       "      <th>table</th>\n",
       "      <th>x</th>\n",
       "      <th>y</th>\n",
       "      <th>z</th>\n",
       "      <th>price</th>\n",
       "    </tr>\n",
       "  </thead>\n",
       "  <tbody>\n",
       "    <tr>\n",
       "      <th>carat</th>\n",
       "      <td>1.000000</td>\n",
       "      <td>0.017691</td>\n",
       "      <td>0.289423</td>\n",
       "      <td>-0.208664</td>\n",
       "      <td>0.020201</td>\n",
       "      <td>0.185391</td>\n",
       "      <td>0.975345</td>\n",
       "      <td>0.942855</td>\n",
       "      <td>0.947481</td>\n",
       "      <td>0.922416</td>\n",
       "    </tr>\n",
       "    <tr>\n",
       "      <th>cut</th>\n",
       "      <td>0.017691</td>\n",
       "      <td>1.000000</td>\n",
       "      <td>0.006167</td>\n",
       "      <td>0.028456</td>\n",
       "      <td>-0.188927</td>\n",
       "      <td>0.151204</td>\n",
       "      <td>0.024782</td>\n",
       "      <td>0.029397</td>\n",
       "      <td>0.005135</td>\n",
       "      <td>0.037664</td>\n",
       "    </tr>\n",
       "    <tr>\n",
       "      <th>color</th>\n",
       "      <td>0.289423</td>\n",
       "      <td>0.006167</td>\n",
       "      <td>1.000000</td>\n",
       "      <td>-0.022534</td>\n",
       "      <td>0.041901</td>\n",
       "      <td>0.030368</td>\n",
       "      <td>0.267430</td>\n",
       "      <td>0.258293</td>\n",
       "      <td>0.263011</td>\n",
       "      <td>0.172734</td>\n",
       "    </tr>\n",
       "    <tr>\n",
       "      <th>clarity</th>\n",
       "      <td>-0.208664</td>\n",
       "      <td>0.028456</td>\n",
       "      <td>-0.022534</td>\n",
       "      <td>1.000000</td>\n",
       "      <td>-0.048171</td>\n",
       "      <td>-0.089370</td>\n",
       "      <td>-0.220970</td>\n",
       "      <td>-0.210929</td>\n",
       "      <td>-0.217828</td>\n",
       "      <td>-0.067328</td>\n",
       "    </tr>\n",
       "    <tr>\n",
       "      <th>depth</th>\n",
       "      <td>0.020201</td>\n",
       "      <td>-0.188927</td>\n",
       "      <td>0.041901</td>\n",
       "      <td>-0.048171</td>\n",
       "      <td>1.000000</td>\n",
       "      <td>-0.300535</td>\n",
       "      <td>-0.033831</td>\n",
       "      <td>-0.037689</td>\n",
       "      <td>0.085778</td>\n",
       "      <td>-0.015812</td>\n",
       "    </tr>\n",
       "    <tr>\n",
       "      <th>table</th>\n",
       "      <td>0.185391</td>\n",
       "      <td>0.151204</td>\n",
       "      <td>0.030368</td>\n",
       "      <td>-0.089370</td>\n",
       "      <td>-0.300535</td>\n",
       "      <td>1.000000</td>\n",
       "      <td>0.198658</td>\n",
       "      <td>0.184910</td>\n",
       "      <td>0.152677</td>\n",
       "      <td>0.130676</td>\n",
       "    </tr>\n",
       "    <tr>\n",
       "      <th>x</th>\n",
       "      <td>0.975345</td>\n",
       "      <td>0.024782</td>\n",
       "      <td>0.267430</td>\n",
       "      <td>-0.220970</td>\n",
       "      <td>-0.033831</td>\n",
       "      <td>0.198658</td>\n",
       "      <td>1.000000</td>\n",
       "      <td>0.964957</td>\n",
       "      <td>0.964535</td>\n",
       "      <td>0.885402</td>\n",
       "    </tr>\n",
       "    <tr>\n",
       "      <th>y</th>\n",
       "      <td>0.942855</td>\n",
       "      <td>0.029397</td>\n",
       "      <td>0.258293</td>\n",
       "      <td>-0.210929</td>\n",
       "      <td>-0.037689</td>\n",
       "      <td>0.184910</td>\n",
       "      <td>0.964957</td>\n",
       "      <td>1.000000</td>\n",
       "      <td>0.938387</td>\n",
       "      <td>0.857983</td>\n",
       "    </tr>\n",
       "    <tr>\n",
       "      <th>z</th>\n",
       "      <td>0.947481</td>\n",
       "      <td>0.005135</td>\n",
       "      <td>0.263011</td>\n",
       "      <td>-0.217828</td>\n",
       "      <td>0.085778</td>\n",
       "      <td>0.152677</td>\n",
       "      <td>0.964535</td>\n",
       "      <td>0.938387</td>\n",
       "      <td>1.000000</td>\n",
       "      <td>0.856832</td>\n",
       "    </tr>\n",
       "    <tr>\n",
       "      <th>price</th>\n",
       "      <td>0.922416</td>\n",
       "      <td>0.037664</td>\n",
       "      <td>0.172734</td>\n",
       "      <td>-0.067328</td>\n",
       "      <td>-0.015812</td>\n",
       "      <td>0.130676</td>\n",
       "      <td>0.885402</td>\n",
       "      <td>0.857983</td>\n",
       "      <td>0.856832</td>\n",
       "      <td>1.000000</td>\n",
       "    </tr>\n",
       "  </tbody>\n",
       "</table>\n",
       "</div>"
      ],
      "text/plain": [
       "            carat       cut     color   clarity     depth     table         x  \\\n",
       "carat    1.000000  0.017691  0.289423 -0.208664  0.020201  0.185391  0.975345   \n",
       "cut      0.017691  1.000000  0.006167  0.028456 -0.188927  0.151204  0.024782   \n",
       "color    0.289423  0.006167  1.000000 -0.022534  0.041901  0.030368  0.267430   \n",
       "clarity -0.208664  0.028456 -0.022534  1.000000 -0.048171 -0.089370 -0.220970   \n",
       "depth    0.020201 -0.188927  0.041901 -0.048171  1.000000 -0.300535 -0.033831   \n",
       "table    0.185391  0.151204  0.030368 -0.089370 -0.300535  1.000000  0.198658   \n",
       "x        0.975345  0.024782  0.267430 -0.220970 -0.033831  0.198658  1.000000   \n",
       "y        0.942855  0.029397  0.258293 -0.210929 -0.037689  0.184910  0.964957   \n",
       "z        0.947481  0.005135  0.263011 -0.217828  0.085778  0.152677  0.964535   \n",
       "price    0.922416  0.037664  0.172734 -0.067328 -0.015812  0.130676  0.885402   \n",
       "\n",
       "                y         z     price  \n",
       "carat    0.942855  0.947481  0.922416  \n",
       "cut      0.029397  0.005135  0.037664  \n",
       "color    0.258293  0.263011  0.172734  \n",
       "clarity -0.210929 -0.217828 -0.067328  \n",
       "depth   -0.037689  0.085778 -0.015812  \n",
       "table    0.184910  0.152677  0.130676  \n",
       "x        0.964957  0.964535  0.885402  \n",
       "y        1.000000  0.938387  0.857983  \n",
       "z        0.938387  1.000000  0.856832  \n",
       "price    0.857983  0.856832  1.000000  "
      ]
     },
     "execution_count": 59,
     "metadata": {},
     "output_type": "execute_result"
    }
   ],
   "source": [
    "df.corr()"
   ]
  },
  {
   "cell_type": "code",
   "execution_count": 60,
   "id": "d2f5ea9c",
   "metadata": {},
   "outputs": [
    {
     "data": {
      "image/png": "[encoded data removed]",
      "text/plain": [
       "<Figure size 1080x648 with 2 Axes>"
      ]
     },
     "metadata": {
      "needs_background": "light"
     },
     "output_type": "display_data"
    }
   ],
   "source": [
    "import matplotlib.pyplot as plt\n",
    "fig = plt.figure(figsize = (15,9))\n",
    "sns.heatmap(df.corr(), cmap='Blues', annot = True);"
   ]
  },
  {
   "cell_type": "markdown",
   "id": "b93fe7fb",
   "metadata": {},
   "source": [
    "From the heatmap, I can see feature x, y, z are highly correlated with carat.\n",
    "x and y, x and z, y and z are all highly correlated with each other. They are all highly correlated with the price as well. "
   ]
  },
  {
   "cell_type": "code",
   "execution_count": 61,
   "id": "170dc788",
   "metadata": {},
   "outputs": [
    {
     "data": {
      "text/plain": [
       "array([[<AxesSubplot:title={'center':'carat'}>,\n",
       "        <AxesSubplot:title={'center':'cut'}>,\n",
       "        <AxesSubplot:title={'center':'color'}>],\n",
       "       [<AxesSubplot:title={'center':'clarity'}>,\n",
       "        <AxesSubplot:title={'center':'depth'}>,\n",
       "        <AxesSubplot:title={'center':'table'}>],\n",
       "       [<AxesSubplot:title={'center':'x'}>,\n",
       "        <AxesSubplot:title={'center':'y'}>,\n",
       "        <AxesSubplot:title={'center':'z'}>],\n",
       "       [<AxesSubplot:title={'center':'price'}>, <AxesSubplot:>,\n",
       "        <AxesSubplot:>]], dtype=object)"
      ]
     },
     "execution_count": 61,
     "metadata": {},
     "output_type": "execute_result"
    },
    {
     "data": {
      "image/png": "[encoded data removed]",
      "text/plain": [
       "<Figure size 432x288 with 12 Axes>"
      ]
     },
     "metadata": {
      "needs_background": "light"
     },
     "output_type": "display_data"
    }
   ],
   "source": [
    "df.hist()"
   ]
  },
  {
   "cell_type": "markdown",
   "id": "fe60b413",
   "metadata": {},
   "source": [
    "Next step - proprocssing the data based on EDA\n",
    "The steps involved are: \n",
    "- encode ordinal features (was done in previous steps)\n",
    "- remove outliers in carat,depth and table\n",
    "- remove x, y, z. \n",
    "- transform test data"
   ]
  },
  {
   "cell_type": "code",
   "execution_count": 108,
   "id": "36bfe8b6",
   "metadata": {},
   "outputs": [],
   "source": [
    "cols = ['depth', 'table', 'x','y','z'] # The columns to search for outliers in\n",
    "\n",
    "Q1 = df[cols].quantile(0.05)\n",
    "Q3 = df[cols].quantile(0.95)\n",
    "IQR = Q3 - Q1\n",
    "\n",
    "X_train_clean = df[~((df[cols] < (Q1 - 1.5 * IQR)) |(df[cols] > (Q3 + 1.5 * IQR))).any(axis=1)]"
   ]
  },
  {
   "cell_type": "code",
   "execution_count": 109,
   "id": "2c7ae067",
   "metadata": {},
   "outputs": [],
   "source": [
    "X_train_fs = X_train_clean.drop([\"price\"],axis=1)\n",
    "y_train=X_train_clean['price']"
   ]
  },
  {
   "cell_type": "code",
   "execution_count": 110,
   "id": "7d8926fe",
   "metadata": {},
   "outputs": [],
   "source": [
    "#transform test data\n",
    "X_test_encoded=X_test.copy()\n",
    "X_test_encoded['cut']=encoder_cut.transform(X_test_encoded['cut'].values.reshape(-1,1))\n",
    "X_test_encoded['color']=encoder_color.transform(X_test_encoded['color'].values.reshape(-1,1))\n",
    "X_test_encoded['clarity']=encoder_clarity.transform(X_test_encoded['clarity'].values.reshape(-1,1))\n",
    "X_test_fs=X_test_encoded"
   ]
  },
  {
   "cell_type": "code",
   "execution_count": 111,
   "id": "1012e32a",
   "metadata": {},
   "outputs": [
    {
     "data": {
      "text/plain": [
       "carat      0\n",
       "cut        0\n",
       "color      0\n",
       "clarity    0\n",
       "depth      0\n",
       "table      0\n",
       "x          0\n",
       "y          0\n",
       "z          0\n",
       "dtype: int64"
      ]
     },
     "execution_count": 111,
     "metadata": {},
     "output_type": "execute_result"
    }
   ],
   "source": [
    "X_test_fs.isnull().sum()"
   ]
  },
  {
   "cell_type": "code",
   "execution_count": 112,
   "id": "7df9233c",
   "metadata": {},
   "outputs": [],
   "source": [
    "#X_train_final=X_train_encoded\n",
    "#X_test_final=X_test_encoded\n",
    "X_train_final=X_train_fs\n",
    "X_test_final=X_test_fs"
   ]
  },
  {
   "cell_type": "code",
   "execution_count": 113,
   "id": "85cbba9b",
   "metadata": {},
   "outputs": [
    {
     "data": {
      "text/plain": [
       "(37736, 9)"
      ]
     },
     "execution_count": 113,
     "metadata": {},
     "output_type": "execute_result"
    }
   ],
   "source": [
    "X_train_final.shape"
   ]
  },
  {
   "cell_type": "markdown",
   "id": "fafe1ee6",
   "metadata": {},
   "source": [
    "Next step - modelling"
   ]
  },
  {
   "cell_type": "code",
   "execution_count": 114,
   "id": "ccbafcc9",
   "metadata": {},
   "outputs": [],
   "source": [
    "# code reference: https://www.analyticsvidhya.com/blog/2021/10/evaluation-metric-for-regression-models/\n",
    "def relative_squared_error(target, pred):\n",
    "    target_mean = np.mean(target)\n",
    "    se_sum = np.sum(np.square(target - pred))\n",
    "    se_den = np.sum(np.square(target - target_mean))\n",
    "    rse_loss = se_sum / se_den\n",
    "    return rse_loss"
   ]
  },
  {
   "cell_type": "code",
   "execution_count": 115,
   "id": "2dcd8389",
   "metadata": {},
   "outputs": [
    {
     "name": "stdout",
     "output_type": "stream",
     "text": [
      "['Linear Regression', 1887805.41, 1373.97, 0.12, 860.95, 0.01]\n"
     ]
    }
   ],
   "source": [
    "#1 linear regression\n",
    "import time\n",
    "from sklearn.linear_model import LinearRegression\n",
    "lr_start = time.time()\n",
    "reg_lr = LinearRegression().fit(X_train_final, y_train)\n",
    "lr_pred = reg_lr.predict(X_test_final)\n",
    "lr_end = time.time()\n",
    "\n",
    "#mse\n",
    "from sklearn.metrics import mean_squared_error\n",
    "lr_mse=round(mean_squared_error(y_test, lr_pred),2)\n",
    "\n",
    "#rmse\n",
    "from sklearn.metrics import mean_squared_error\n",
    "lr_rmse=round(mean_squared_error(y_test, lr_pred,squared=False),2)\n",
    "\n",
    "#rse\n",
    "lr_rse=round(relative_squared_error(y_test, lr_pred),2)\n",
    "\n",
    "#mae\n",
    "from sklearn.metrics import mean_absolute_error\n",
    "lr_mae=round(mean_absolute_error(y_test, lr_pred),2)\n",
    "\n",
    "#run time\n",
    "lr_runtime=round((lr_end-lr_start),2)\n",
    "\n",
    "lr_metrics=['Linear Regression', lr_mse, lr_rmse, lr_rse, lr_mae, lr_runtime]\n",
    "print(lr_metrics)\n"
   ]
  },
  {
   "cell_type": "code",
   "execution_count": 116,
   "id": "e21fecd6",
   "metadata": {},
   "outputs": [
    {
     "name": "stdout",
     "output_type": "stream",
     "text": [
      "['K-neighbors Regression', 908288.54, 953.04, 0.06, 499.45, 0.51]\n"
     ]
    }
   ],
   "source": [
    "#2 k-neighbors regression\n",
    "from sklearn.neighbors import KNeighborsRegressor\n",
    "knn_start = time.time()\n",
    "reg_knn = KNeighborsRegressor().fit(X_train_final, y_train)\n",
    "knn_pred = reg_knn.predict(X_test_final)\n",
    "knn_end = time.time()\n",
    "\n",
    "knn_mse=round(mean_squared_error(y_test, knn_pred),2)\n",
    "knn_rmse=round(mean_squared_error(y_test, knn_pred,squared=False),2)\n",
    "knn_rse=round(relative_squared_error(y_test, knn_pred),2)\n",
    "knn_mae=round(mean_absolute_error(y_test, knn_pred),2)\n",
    "knn_runtime=round((knn_end-knn_start),2)\n",
    "\n",
    "knn_metrics=['K-neighbors Regression', knn_mse, knn_rmse, knn_rse, knn_mae, knn_runtime]\n",
    "print(knn_metrics)\n"
   ]
  },
  {
   "cell_type": "code",
   "execution_count": 117,
   "id": "88e2b3fc",
   "metadata": {},
   "outputs": [
    {
     "name": "stdout",
     "output_type": "stream",
     "text": [
      "['Ridge Regression', 1887817.84, 1373.98, 0.12, 861.14, 0.01]\n"
     ]
    }
   ],
   "source": [
    "#3 ridge regression\n",
    "from sklearn.linear_model import Ridge\n",
    "rr_start = time.time()\n",
    "reg_rr = Ridge(alpha=.5).fit(X_train_final, y_train)\n",
    "rr_pred = reg_rr.predict(X_test_final)\n",
    "rr_end = time.time()\n",
    "\n",
    "rr_mse=round(mean_squared_error(y_test, rr_pred),2)\n",
    "rr_rmse=round(mean_squared_error(y_test, rr_pred,squared=False),2)\n",
    "rr_rse=round(relative_squared_error(y_test, rr_pred),2)\n",
    "rr_mae=round(mean_absolute_error(y_test, rr_pred),2)\n",
    "rr_runtime=round((rr_end-rr_start),2)\n",
    "\n",
    "rr_metrics=['Ridge Regression', rr_mse, rr_rmse, rr_rse, rr_mae, rr_runtime]\n",
    "print(rr_metrics)\n",
    "\n"
   ]
  },
  {
   "cell_type": "code",
   "execution_count": 118,
   "id": "536c5e67",
   "metadata": {},
   "outputs": [
    {
     "name": "stdout",
     "output_type": "stream",
     "text": [
      "['Decision tree Regression', 551080.87, 742.35, 0.03, 364.18, 0.19]\n"
     ]
    }
   ],
   "source": [
    "#4 decision tree regression\n",
    "from sklearn.tree import DecisionTreeRegressor\n",
    "dt_start = time.time()\n",
    "reg_dt = DecisionTreeRegressor().fit(X_train_final, y_train)\n",
    "dt_pred = reg_dt.predict(X_test_final)\n",
    "dt_end = time.time()\n",
    "\n",
    "dt_mse=round(mean_squared_error(y_test, dt_pred),2)\n",
    "dt_rmse=round(mean_squared_error(y_test, dt_pred,squared=False),2)\n",
    "dt_rse=round(relative_squared_error(y_test, dt_pred),2)\n",
    "dt_mae=round(mean_absolute_error(y_test, dt_pred),2)\n",
    "dt_runtime=round((dt_end-dt_start),2)\n",
    "\n",
    "dt_metrics=['Decision tree Regression', dt_mse, dt_rmse, dt_rse, dt_mae, dt_runtime]\n",
    "print(dt_metrics)\n",
    "\n"
   ]
  },
  {
   "cell_type": "code",
   "execution_count": 119,
   "id": "f46c9b74",
   "metadata": {},
   "outputs": [
    {
     "name": "stdout",
     "output_type": "stream",
     "text": [
      "['Random Forest Regression', 307373.35, 554.41, 0.02, 273.01, 12.43]\n"
     ]
    }
   ],
   "source": [
    "#5 Random Forest regression\n",
    "from sklearn.ensemble import RandomForestRegressor\n",
    "rf_start = time.time()\n",
    "reg_rf = RandomForestRegressor().fit(X_train_final, y_train)\n",
    "rf_pred = reg_rf.predict(X_test_final)\n",
    "rf_end = time.time()\n",
    "\n",
    "rf_mse=round(mean_squared_error(y_test, rf_pred),2)\n",
    "rf_rmse=round(mean_squared_error(y_test, rf_pred,squared=False),2)\n",
    "rf_rse=round(relative_squared_error(y_test, rf_pred),2)\n",
    "rf_mae=round(mean_absolute_error(y_test, rf_pred),2)\n",
    "rf_runtime=round((rf_end-rf_start),2)\n",
    "\n",
    "rf_metrics=['Random Forest Regression', rf_mse, rf_rmse, rf_rse, rf_mae, rf_runtime]\n",
    "print(rf_metrics)\n",
    "\n"
   ]
  },
  {
   "cell_type": "code",
   "execution_count": 120,
   "id": "e326dc26",
   "metadata": {},
   "outputs": [
    {
     "name": "stdout",
     "output_type": "stream",
     "text": [
      "['Gradient Boosting Regression', 471878.61, 686.93, 0.03, 367.41, 3.17]\n"
     ]
    }
   ],
   "source": [
    "#6 gradient Boosting regression\n",
    "from sklearn.ensemble import GradientBoostingRegressor\n",
    "gb_start = time.time()\n",
    "reg_gb = GradientBoostingRegressor().fit(X_train_final, y_train)\n",
    "gb_pred = reg_gb.predict(X_test_final)\n",
    "gb_end = time.time()\n",
    "\n",
    "gb_mse=round(mean_squared_error(y_test, gb_pred),2)\n",
    "gb_rmse=round(mean_squared_error(y_test, gb_pred,squared=False),2)\n",
    "gb_rse=round(relative_squared_error(y_test, gb_pred),2)\n",
    "gb_mae=round(mean_absolute_error(y_test, gb_pred),2)\n",
    "gb_runtime=round((gb_end-gb_start),2)\n",
    "\n",
    "gb_metrics=['Gradient Boosting Regression', gb_mse, gb_rmse, gb_rse, gb_mae, gb_runtime]\n",
    "print(gb_metrics)\n",
    "\n"
   ]
  },
  {
   "cell_type": "code",
   "execution_count": 128,
   "id": "216f77df",
   "metadata": {},
   "outputs": [
    {
     "name": "stdout",
     "output_type": "stream",
     "text": [
      "['SGD Regression', 3822585328211198.5, 61827059.84, 235661553.83, 47516460.36, 3.24]\n"
     ]
    }
   ],
   "source": [
    "#7 SGD regression\n",
    "from sklearn.linear_model import SGDRegressor\n",
    "sgd_start = time.time()\n",
    "reg_sgd = SGDRegressor(max_iter=10000, tol=1e-3,alpha=0.2).fit(X_train_final, y_train)\n",
    "sgd_pred = reg_sgd.predict(X_test_final)\n",
    "sgd_end = time.time()\n",
    "\n",
    "sgd_mse=round(mean_squared_error(y_test, sgd_pred),2)\n",
    "sgd_rmse=round(mean_squared_error(y_test, sgd_pred,squared=False),2)\n",
    "sgd_rse=round(relative_squared_error(y_test, sgd_pred),2)\n",
    "sgd_mae=round(mean_absolute_error(y_test, sgd_pred),2)\n",
    "sgd_runtime=round((sgd_end-sgd_start),2)\n",
    "\n",
    "sgd_metrics=['SGD Regression', sgd_mse, sgd_rmse, sgd_rse, sgd_mae, sgd_runtime]\n",
    "print(sgd_metrics)\n",
    "\n"
   ]
  },
  {
   "cell_type": "code",
   "execution_count": 122,
   "id": "bbbc64c5",
   "metadata": {},
   "outputs": [
    {
     "name": "stdout",
     "output_type": "stream",
     "text": [
      "['Support Vector Regression', 18241959.33, 4271.06, 1.12, 2781.56, 198.02]\n"
     ]
    }
   ],
   "source": [
    "#8 support vector regression\n",
    "from sklearn.svm import SVR\n",
    "svr_start = time.time()\n",
    "reg_svr = SVR().fit(X_train_final, y_train)\n",
    "svr_pred = reg_svr.predict(X_test_final)\n",
    "svr_end = time.time()\n",
    "\n",
    "svr_mse=round(mean_squared_error(y_test, svr_pred),2)\n",
    "svr_rmse=round(mean_squared_error(y_test, svr_pred,squared=False),2)\n",
    "svr_rse=round(relative_squared_error(y_test, svr_pred),2)\n",
    "svr_mae=round(mean_absolute_error(y_test, svr_pred),2)\n",
    "svr_runtime=round((svr_end-svr_start),2)\n",
    "\n",
    "svr_metrics=['Support Vector Regression', svr_mse, svr_rmse, svr_rse, svr_mae, svr_runtime]\n",
    "print(svr_metrics)\n",
    "\n"
   ]
  },
  {
   "cell_type": "code",
   "execution_count": 123,
   "id": "1779ccdb",
   "metadata": {},
   "outputs": [
    {
     "name": "stdout",
     "output_type": "stream",
     "text": [
      "['Linear SVR Regression', 3625118.61, 1903.97, 0.22, 1097.81, 0.25]\n"
     ]
    }
   ],
   "source": [
    "#9 linear SVR\n",
    "from sklearn.svm import LinearSVR\n",
    "lsvr_start = time.time()\n",
    "reg_lsvr = LinearSVR().fit(X_train_final, y_train)\n",
    "lsvr_pred = reg_lsvr.predict(X_test_final)\n",
    "lsvr_end = time.time()\n",
    "\n",
    "lsvr_mse=round(mean_squared_error(y_test, lsvr_pred),2)\n",
    "lsvr_rmse=round(mean_squared_error(y_test, lsvr_pred,squared=False),2)\n",
    "lsvr_rse=round(relative_squared_error(y_test, lsvr_pred),2)\n",
    "lsvr_mae=round(mean_absolute_error(y_test, lsvr_pred),2)\n",
    "lsvr_runtime=round((lsvr_end-lsvr_start),2)\n",
    "\n",
    "lsvr_metrics=['Linear SVR Regression', lsvr_mse, lsvr_rmse, lsvr_rse, lsvr_mae, lsvr_runtime]\n",
    "print(lsvr_metrics)\n"
   ]
  },
  {
   "cell_type": "code",
   "execution_count": 124,
   "id": "6b353254",
   "metadata": {},
   "outputs": [
    {
     "name": "stdout",
     "output_type": "stream",
     "text": [
      "['MLP Regression', 3598366.96, 1896.94, 0.22, 1097.54, 0.24]\n"
     ]
    }
   ],
   "source": [
    "#10 Multi-layer percetron regression\n",
    "from sklearn.neural_network import MLPRegressor\n",
    "mlp_start = time.time()\n",
    "reg_mlp = MLPRegressor(hidden_layer_sizes=(100, ), activation = 'relu', solver = 'lbfgs',  learning_rate = 'adaptive').fit(X_train_final, y_train)\n",
    "mlp_pred = reg_mlp.predict(X_test_final)\n",
    "mlp_end = time.time()\n",
    "\n",
    "mlp_mse=round(mean_squared_error(y_test, mlp_pred),2)\n",
    "mlp_rmse=round(mean_squared_error(y_test, mlp_pred,squared=False),2)\n",
    "mlp_rse=round(relative_squared_error(y_test,mlp_pred),2)\n",
    "mlp_mae=round(mean_absolute_error(y_test, mlp_pred),2)\n",
    "mlp_runtime=round((mlp_end-mlp_start),2)\n",
    "\n",
    "mlp_metrics=['MLP Regression', mlp_mse, mlp_rmse, mlp_rse, mlp_mae, mlp_runtime]\n",
    "print(mlp_metrics)\n"
   ]
  },
  {
   "cell_type": "code",
   "execution_count": 129,
   "id": "2a56eead",
   "metadata": {},
   "outputs": [
    {
     "data": {
      "text/html": [
       "<div>\n",
       "<style scoped>\n",
       "    .dataframe tbody tr th:only-of-type {\n",
       "        vertical-align: middle;\n",
       "    }\n",
       "\n",
       "    .dataframe tbody tr th {\n",
       "        vertical-align: top;\n",
       "    }\n",
       "\n",
       "    .dataframe thead th {\n",
       "        text-align: right;\n",
       "    }\n",
       "</style>\n",
       "<table border=\"1\" class=\"dataframe\">\n",
       "  <thead>\n",
       "    <tr style=\"text-align: right;\">\n",
       "      <th></th>\n",
       "      <th>Algorithm</th>\n",
       "      <th>MSE</th>\n",
       "      <th>RMSE</th>\n",
       "      <th>RSE</th>\n",
       "      <th>MAE</th>\n",
       "      <th>Run Time(seconds)</th>\n",
       "    </tr>\n",
       "  </thead>\n",
       "  <tbody>\n",
       "    <tr>\n",
       "      <th>0</th>\n",
       "      <td>Linear Regression</td>\n",
       "      <td>1887805.41</td>\n",
       "      <td>1373.97</td>\n",
       "      <td>0.12</td>\n",
       "      <td>860.95</td>\n",
       "      <td>0.01</td>\n",
       "    </tr>\n",
       "    <tr>\n",
       "      <th>1</th>\n",
       "      <td>K-neighbors Regression</td>\n",
       "      <td>908288.54</td>\n",
       "      <td>953.04</td>\n",
       "      <td>0.06</td>\n",
       "      <td>499.45</td>\n",
       "      <td>0.51</td>\n",
       "    </tr>\n",
       "    <tr>\n",
       "      <th>2</th>\n",
       "      <td>Ridge Regression</td>\n",
       "      <td>1887817.84</td>\n",
       "      <td>1373.98</td>\n",
       "      <td>0.12</td>\n",
       "      <td>861.14</td>\n",
       "      <td>0.01</td>\n",
       "    </tr>\n",
       "    <tr>\n",
       "      <th>3</th>\n",
       "      <td>Decision tree Regression</td>\n",
       "      <td>551080.87</td>\n",
       "      <td>742.35</td>\n",
       "      <td>0.03</td>\n",
       "      <td>364.18</td>\n",
       "      <td>0.19</td>\n",
       "    </tr>\n",
       "    <tr>\n",
       "      <th>4</th>\n",
       "      <td>Random Forest Regression</td>\n",
       "      <td>307373.35</td>\n",
       "      <td>554.41</td>\n",
       "      <td>0.02</td>\n",
       "      <td>273.01</td>\n",
       "      <td>12.43</td>\n",
       "    </tr>\n",
       "    <tr>\n",
       "      <th>5</th>\n",
       "      <td>Gradient Boosting Regression</td>\n",
       "      <td>471878.61</td>\n",
       "      <td>686.93</td>\n",
       "      <td>0.03</td>\n",
       "      <td>367.41</td>\n",
       "      <td>3.17</td>\n",
       "    </tr>\n",
       "    <tr>\n",
       "      <th>6</th>\n",
       "      <td>SGD Regression</td>\n",
       "      <td>3822585328211198.50</td>\n",
       "      <td>61827059.84</td>\n",
       "      <td>235661553.83</td>\n",
       "      <td>47516460.36</td>\n",
       "      <td>3.24</td>\n",
       "    </tr>\n",
       "    <tr>\n",
       "      <th>7</th>\n",
       "      <td>Support Vector Regression</td>\n",
       "      <td>18241959.33</td>\n",
       "      <td>4271.06</td>\n",
       "      <td>1.12</td>\n",
       "      <td>2781.56</td>\n",
       "      <td>198.02</td>\n",
       "    </tr>\n",
       "    <tr>\n",
       "      <th>8</th>\n",
       "      <td>Linear SVR Regression</td>\n",
       "      <td>3625118.61</td>\n",
       "      <td>1903.97</td>\n",
       "      <td>0.22</td>\n",
       "      <td>1097.81</td>\n",
       "      <td>0.25</td>\n",
       "    </tr>\n",
       "    <tr>\n",
       "      <th>9</th>\n",
       "      <td>MLP Regression</td>\n",
       "      <td>3598366.96</td>\n",
       "      <td>1896.94</td>\n",
       "      <td>0.22</td>\n",
       "      <td>1097.54</td>\n",
       "      <td>0.24</td>\n",
       "    </tr>\n",
       "  </tbody>\n",
       "</table>\n",
       "</div>"
      ],
      "text/plain": [
       "                      Algorithm                 MSE        RMSE          RSE  \\\n",
       "0             Linear Regression          1887805.41     1373.97         0.12   \n",
       "1        K-neighbors Regression           908288.54      953.04         0.06   \n",
       "2              Ridge Regression          1887817.84     1373.98         0.12   \n",
       "3      Decision tree Regression           551080.87      742.35         0.03   \n",
       "4      Random Forest Regression           307373.35      554.41         0.02   \n",
       "5  Gradient Boosting Regression           471878.61      686.93         0.03   \n",
       "6                SGD Regression 3822585328211198.50 61827059.84 235661553.83   \n",
       "7     Support Vector Regression         18241959.33     4271.06         1.12   \n",
       "8         Linear SVR Regression          3625118.61     1903.97         0.22   \n",
       "9                MLP Regression          3598366.96     1896.94         0.22   \n",
       "\n",
       "          MAE  Run Time(seconds)  \n",
       "0      860.95               0.01  \n",
       "1      499.45               0.51  \n",
       "2      861.14               0.01  \n",
       "3      364.18               0.19  \n",
       "4      273.01              12.43  \n",
       "5      367.41               3.17  \n",
       "6 47516460.36               3.24  \n",
       "7     2781.56             198.02  \n",
       "8     1097.81               0.25  \n",
       "9     1097.54               0.24  "
      ]
     },
     "execution_count": 129,
     "metadata": {},
     "output_type": "execute_result"
    }
   ],
   "source": [
    "metrics=[lr_metrics,knn_metrics,rr_metrics,dt_metrics,rf_metrics,gb_metrics,sgd_metrics,svr_metrics,lsvr_metrics,mlp_metrics]\n",
    "output=pd.DataFrame(columns=['Algorithm','MSE','RMSE','RSE','MAE','Run Time(seconds)'],data=metrics)\n",
    "pd.set_option('display.float_format', '{:.2f}'.format)\n",
    "output"
   ]
  }
 ],
 "metadata": {
  "kernelspec": {
   "display_name": "Python 3 (ipykernel)",
   "language": "python",
   "name": "python3"
  },
  "language_info": {
   "codemirror_mode": {
    "name": "ipython",
    "version": 3
   },
   "file_extension": ".py",
   "mimetype": "text/x-python",
   "name": "python",
   "nbconvert_exporter": "python",
   "pygments_lexer": "ipython3",
   "version": "3.9.12"
  }
 },
 "nbformat": 4,
 "nbformat_minor": 5
}
